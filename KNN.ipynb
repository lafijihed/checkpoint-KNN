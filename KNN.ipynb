{
 "cells": [
  {
   "cell_type": "code",
   "execution_count": 1,
   "id": "af4427a4",
   "metadata": {},
   "outputs": [],
   "source": [
    "import pandas as pd\n",
    "import matplotlib.pyplot as plt\n",
    "import seaborn as sns\n",
    "import warnings\n",
    "warnings.filterwarnings('ignore')\n",
    "from sklearn.pipeline import Pipeline\n",
    "from sklearn.preprocessing import StandardScaler, RobustScaler, MinMaxScaler\n",
    "from sklearn import set_config; set_config(display='diagram')\n",
    "from sklearn.preprocessing import OneHotEncoder\n",
    "from sklearn.model_selection import train_test_split\n",
    "from sklearn.compose import ColumnTransformer\n",
    "from sklearn.metrics import confusion_matrix, classification_report, accuracy_score, f1_score,precision_score,recall_score\n",
    "from sklearn.metrics import classification_report, confusion_matrix,ConfusionMatrixDisplay"
   ]
  },
  {
   "cell_type": "code",
   "execution_count": 5,
   "id": "f9bf60a9",
   "metadata": {},
   "outputs": [
    {
     "name": "stdout",
     "output_type": "stream",
     "text": [
      "5.1, 3.5, 1.4, 0.2, Iris-setosa\n",
      "4.9, 3.0, 1.4, 0.2, Iris-setosa\n",
      "4.7, 3.2, 1.3, 0.2, Iris-setosa\n",
      "4.6, 3.1, 1.5, 0.2, Iris-setosa\n",
      "5.0, 3.6, 1.4, 0.2, Iris-setosa\n",
      "5.4, 3.9, 1.7, 0.4, Iris-setosa\n",
      "4.6, 3.4, 1.4, 0.3, Iris-setosa\n",
      "5.0, 3.4, 1.5, 0.2, Iris-setosa\n",
      "4.4, 2.9, 1.4, 0.2, Iris-setosa\n",
      "4.9, 3.1, 1.5, 0.1, Iris-setosa\n",
      "5.4, 3.7, 1.5, 0.2, Iris-setosa\n",
      "4.8, 3.4, 1.6, 0.2, Iris-setosa\n",
      "4.8, 3.0, 1.4, 0.1, Iris-setosa\n",
      "4.3, 3.0, 1.1, 0.1, Iris-setosa\n",
      "5.8, 4.0, 1.2, 0.2, Iris-setosa\n",
      "5.7, 4.4, 1.5, 0.4, Iris-setosa\n",
      "5.4, 3.9, 1.3, 0.4, Iris-setosa\n",
      "5.1, 3.5, 1.4, 0.3, Iris-setosa\n",
      "5.7, 3.8, 1.7, 0.3, Iris-setosa\n",
      "5.1, 3.8, 1.5, 0.3, Iris-setosa\n",
      "5.4, 3.4, 1.7, 0.2, Iris-setosa\n",
      "5.1, 3.7, 1.5, 0.4, Iris-setosa\n",
      "4.6, 3.6, 1.0, 0.2, Iris-setosa\n",
      "5.1, 3.3, 1.7, 0.5, Iris-setosa\n",
      "4.8, 3.4, 1.9, 0.2, Iris-setosa\n",
      "5.0, 3.0, 1.6, 0.2, Iris-setosa\n",
      "5.0, 3.4, 1.6, 0.4, Iris-setosa\n",
      "5.2, 3.5, 1.5, 0.2, Iris-setosa\n",
      "5.2, 3.4, 1.4, 0.2, Iris-setosa\n",
      "4.7, 3.2, 1.6, 0.2, Iris-setosa\n",
      "4.8, 3.1, 1.6, 0.2, Iris-setosa\n",
      "5.4, 3.4, 1.5, 0.4, Iris-setosa\n",
      "5.2, 4.1, 1.5, 0.1, Iris-setosa\n",
      "5.5, 4.2, 1.4, 0.2, Iris-setosa\n",
      "4.9, 3.1, 1.5, 0.1, Iris-setosa\n",
      "5.0, 3.2, 1.2, 0.2, Iris-setosa\n",
      "5.5, 3.5, 1.3, 0.2, Iris-setosa\n",
      "4.9, 3.1, 1.5, 0.1, Iris-setosa\n",
      "4.4, 3.0, 1.3, 0.2, Iris-setosa\n",
      "5.1, 3.4, 1.5, 0.2, Iris-setosa\n",
      "5.0, 3.5, 1.3, 0.3, Iris-setosa\n",
      "4.5, 2.3, 1.3, 0.3, Iris-setosa\n",
      "4.4, 3.2, 1.3, 0.2, Iris-setosa\n",
      "5.0, 3.5, 1.6, 0.6, Iris-setosa\n",
      "5.1, 3.8, 1.9, 0.4, Iris-setosa\n",
      "4.8, 3.0, 1.4, 0.3, Iris-setosa\n",
      "5.1, 3.8, 1.6, 0.2, Iris-setosa\n",
      "4.6, 3.2, 1.4, 0.2, Iris-setosa\n",
      "5.3, 3.7, 1.5, 0.2, Iris-setosa\n",
      "5.0, 3.3, 1.4, 0.2, Iris-setosa\n",
      "7.0, 3.2, 4.7, 1.4, Iris-versicolor\n",
      "6.4, 3.2, 4.5, 1.5, Iris-versicolor\n",
      "6.9, 3.1, 4.9, 1.5, Iris-versicolor\n",
      "5.5, 2.3, 4.0, 1.3, Iris-versicolor\n",
      "6.5, 2.8, 4.6, 1.5, Iris-versicolor\n",
      "5.7, 2.8, 4.5, 1.3, Iris-versicolor\n",
      "6.3, 3.3, 4.7, 1.6, Iris-versicolor\n",
      "4.9, 2.4, 3.3, 1.0, Iris-versicolor\n",
      "6.6, 2.9, 4.6, 1.3, Iris-versicolor\n",
      "5.2, 2.7, 3.9, 1.4, Iris-versicolor\n",
      "5.0, 2.0, 3.5, 1.0, Iris-versicolor\n",
      "5.9, 3.0, 4.2, 1.5, Iris-versicolor\n",
      "6.0, 2.2, 4.0, 1.0, Iris-versicolor\n",
      "6.1, 2.9, 4.7, 1.4, Iris-versicolor\n",
      "5.6, 2.9, 3.6, 1.3, Iris-versicolor\n",
      "6.7, 3.1, 4.4, 1.4, Iris-versicolor\n",
      "5.6, 3.0, 4.5, 1.5, Iris-versicolor\n",
      "5.8, 2.7, 4.1, 1.0, Iris-versicolor\n",
      "6.2, 2.2, 4.5, 1.5, Iris-versicolor\n",
      "5.6, 2.5, 3.9, 1.1, Iris-versicolor\n",
      "5.9, 3.2, 4.8, 1.8, Iris-versicolor\n",
      "6.1, 2.8, 4.0, 1.3, Iris-versicolor\n",
      "6.3, 2.5, 4.9, 1.5, Iris-versicolor\n",
      "6.1, 2.8, 4.7, 1.2, Iris-versicolor\n",
      "6.4, 2.9, 4.3, 1.3, Iris-versicolor\n",
      "6.6, 3.0, 4.4, 1.4, Iris-versicolor\n",
      "6.8, 2.8, 4.8, 1.4, Iris-versicolor\n",
      "6.7, 3.0, 5.0, 1.7, Iris-versicolor\n",
      "6.0, 2.9, 4.5, 1.5, Iris-versicolor\n",
      "5.7, 2.6, 3.5, 1.0, Iris-versicolor\n",
      "5.5, 2.4, 3.8, 1.1, Iris-versicolor\n",
      "5.5, 2.4, 3.7, 1.0, Iris-versicolor\n",
      "5.8, 2.7, 3.9, 1.2, Iris-versicolor\n",
      "6.0, 2.7, 5.1, 1.6, Iris-versicolor\n",
      "5.4, 3.0, 4.5, 1.5, Iris-versicolor\n",
      "6.0, 3.4, 4.5, 1.6, Iris-versicolor\n",
      "6.7, 3.1, 4.7, 1.5, Iris-versicolor\n",
      "6.3, 2.3, 4.4, 1.3, Iris-versicolor\n",
      "5.6, 3.0, 4.1, 1.3, Iris-versicolor\n",
      "5.5, 2.5, 4.0, 1.3, Iris-versicolor\n",
      "5.5, 2.6, 4.4, 1.2, Iris-versicolor\n",
      "6.1, 3.0, 4.6, 1.4, Iris-versicolor\n",
      "5.8, 2.6, 4.0, 1.2, Iris-versicolor\n",
      "5.0, 2.3, 3.3, 1.0, Iris-versicolor\n",
      "5.6, 2.7, 4.2, 1.3, Iris-versicolor\n",
      "5.7, 3.0, 4.2, 1.2, Iris-versicolor\n",
      "5.7, 2.9, 4.2, 1.3, Iris-versicolor\n",
      "6.2, 2.9, 4.3, 1.3, Iris-versicolor\n",
      "5.1, 2.5, 3.0, 1.1, Iris-versicolor\n",
      "5.7, 2.8, 4.1, 1.3, Iris-versicolor\n",
      "6.3, 3.3, 6.0, 2.5, Iris-virginica\n",
      "5.8, 2.7, 5.1, 1.9, Iris-virginica\n",
      "7.1, 3.0, 5.9, 2.1, Iris-virginica\n",
      "6.3, 2.9, 5.6, 1.8, Iris-virginica\n",
      "6.5, 3.0, 5.8, 2.2, Iris-virginica\n",
      "7.6, 3.0, 6.6, 2.1, Iris-virginica\n",
      "4.9, 2.5, 4.5, 1.7, Iris-virginica\n",
      "7.3, 2.9, 6.3, 1.8, Iris-virginica\n",
      "6.7, 2.5, 5.8, 1.8, Iris-virginica\n",
      "7.2, 3.6, 6.1, 2.5, Iris-virginica\n",
      "6.5, 3.2, 5.1, 2.0, Iris-virginica\n",
      "6.4, 2.7, 5.3, 1.9, Iris-virginica\n",
      "6.8, 3.0, 5.5, 2.1, Iris-virginica\n",
      "5.7, 2.5, 5.0, 2.0, Iris-virginica\n",
      "5.8, 2.8, 5.1, 2.4, Iris-virginica\n",
      "6.4, 3.2, 5.3, 2.3, Iris-virginica\n",
      "6.5, 3.0, 5.5, 1.8, Iris-virginica\n",
      "7.7, 3.8, 6.7, 2.2, Iris-virginica\n",
      "7.7, 2.6, 6.9, 2.3, Iris-virginica\n",
      "6.0, 2.2, 5.0, 1.5, Iris-virginica\n",
      "6.9, 3.2, 5.7, 2.3, Iris-virginica\n",
      "5.6, 2.8, 4.9, 2.0, Iris-virginica\n",
      "7.7, 2.8, 6.7, 2.0, Iris-virginica\n",
      "6.3, 2.7, 4.9, 1.8, Iris-virginica\n",
      "6.7, 3.3, 5.7, 2.1, Iris-virginica\n",
      "7.2, 3.2, 6.0, 1.8, Iris-virginica\n",
      "6.2, 2.8, 4.8, 1.8, Iris-virginica\n",
      "6.1, 3.0, 4.9, 1.8, Iris-virginica\n",
      "6.4, 2.8, 5.6, 2.1, Iris-virginica\n",
      "7.2, 3.0, 5.8, 1.6, Iris-virginica\n",
      "7.4, 2.8, 6.1, 1.9, Iris-virginica\n",
      "7.9, 3.8, 6.4, 2.0, Iris-virginica\n",
      "6.4, 2.8, 5.6, 2.2, Iris-virginica\n",
      "6.3, 2.8, 5.1, 1.5, Iris-virginica\n",
      "6.1, 2.6, 5.6, 1.4, Iris-virginica\n",
      "7.7, 3.0, 6.1, 2.3, Iris-virginica\n",
      "6.3, 3.4, 5.6, 2.4, Iris-virginica\n",
      "6.4, 3.1, 5.5, 1.8, Iris-virginica\n",
      "6.0, 3.0, 4.8, 1.8, Iris-virginica\n",
      "6.9, 3.1, 5.4, 2.1, Iris-virginica\n",
      "6.7, 3.1, 5.6, 2.4, Iris-virginica\n",
      "6.9, 3.1, 5.1, 2.3, Iris-virginica\n",
      "5.8, 2.7, 5.1, 1.9, Iris-virginica\n",
      "6.8, 3.2, 5.9, 2.3, Iris-virginica\n",
      "6.7, 3.3, 5.7, 2.5, Iris-virginica\n",
      "6.7, 3.0, 5.2, 2.3, Iris-virginica\n",
      "6.3, 2.5, 5.0, 1.9, Iris-virginica\n",
      "6.5, 3.0, 5.2, 2.0, Iris-virginica\n",
      "6.2, 3.4, 5.4, 2.3, Iris-virginica\n",
      "5.9, 3.0, 5.1, 1.8, Iris-virginica\n"
     ]
    }
   ],
   "source": [
    "import csv\n",
    "\n",
    "with open('iris.data.txt', 'r') as csvfile:\n",
    "\n",
    "    lines = csv.reader(csvfile)\n",
    "\n",
    "    for row in lines :\n",
    "\n",
    "        print (', '.join(row))"
   ]
  },
  {
   "cell_type": "markdown",
   "id": "bc81a534",
   "metadata": {},
   "source": [
    "####  Data"
   ]
  },
  {
   "cell_type": "code",
   "execution_count": 28,
   "id": "1557247d",
   "metadata": {},
   "outputs": [],
   "source": [
    "import csv\n",
    "\n",
    "import random\n",
    "\n",
    "def loadDataset(filename, split, trainingSet=[] , testSet=[]):\n",
    "\n",
    "    with open(filename, 'r') as csvfile:\n",
    "\n",
    "        lines = csv.reader(csvfile)\n",
    "\n",
    "        dataset = list(lines)\n",
    "\n",
    "    for x in range(len(dataset)-1):\n",
    "\n",
    "        for y in range(4):\n",
    "\n",
    "            dataset[x][y] = float(dataset[x][y])\n",
    "\n",
    "        if random.random() < split:\n",
    "\n",
    "            trainingSet.append(dataset[x])\n",
    "\n",
    "        else:\n",
    "\n",
    "            testSet.append(dataset[x])\n",
    "\n"
   ]
  },
  {
   "cell_type": "markdown",
   "id": "3ecdc6bf",
   "metadata": {},
   "source": [
    "#### split data"
   ]
  },
  {
   "cell_type": "code",
   "execution_count": 29,
   "id": "65986f6a",
   "metadata": {},
   "outputs": [
    {
     "name": "stdout",
     "output_type": "stream",
     "text": [
      "Train: 103\n",
      "Test: 46\n"
     ]
    }
   ],
   "source": [
    "#We can test this function out with our iris dataset, as follows:\n",
    "\n",
    "trainingSet=[]\n",
    "\n",
    "testSet=[]\n",
    "\n",
    "loadDataset('iris.data.txt', 0.66, trainingSet, testSet)\n",
    "\n",
    "print ('Train: ' + repr(len(trainingSet)))\n",
    "\n",
    "print ('Test: ' + repr(len(testSet)) )"
   ]
  },
  {
   "cell_type": "code",
   "execution_count": 30,
   "id": "3e4abca8",
   "metadata": {},
   "outputs": [
    {
     "data": {
      "text/plain": [
       "[[5.1, 3.5, 1.4, 0.2, 'Iris-setosa'],\n",
       " [4.9, 3.0, 1.4, 0.2, 'Iris-setosa'],\n",
       " [4.6, 3.1, 1.5, 0.2, 'Iris-setosa'],\n",
       " [5.4, 3.9, 1.7, 0.4, 'Iris-setosa'],\n",
       " [4.6, 3.4, 1.4, 0.3, 'Iris-setosa'],\n",
       " [5.0, 3.4, 1.5, 0.2, 'Iris-setosa'],\n",
       " [4.9, 3.1, 1.5, 0.1, 'Iris-setosa'],\n",
       " [5.4, 3.7, 1.5, 0.2, 'Iris-setosa'],\n",
       " [4.8, 3.4, 1.6, 0.2, 'Iris-setosa'],\n",
       " [4.8, 3.0, 1.4, 0.1, 'Iris-setosa'],\n",
       " [4.3, 3.0, 1.1, 0.1, 'Iris-setosa'],\n",
       " [5.7, 4.4, 1.5, 0.4, 'Iris-setosa'],\n",
       " [5.4, 3.9, 1.3, 0.4, 'Iris-setosa'],\n",
       " [5.1, 3.5, 1.4, 0.3, 'Iris-setosa'],\n",
       " [5.7, 3.8, 1.7, 0.3, 'Iris-setosa'],\n",
       " [5.1, 3.8, 1.5, 0.3, 'Iris-setosa'],\n",
       " [4.6, 3.6, 1.0, 0.2, 'Iris-setosa'],\n",
       " [5.1, 3.3, 1.7, 0.5, 'Iris-setosa'],\n",
       " [4.8, 3.4, 1.9, 0.2, 'Iris-setosa'],\n",
       " [5.0, 3.0, 1.6, 0.2, 'Iris-setosa'],\n",
       " [5.0, 3.4, 1.6, 0.4, 'Iris-setosa'],\n",
       " [5.2, 3.5, 1.5, 0.2, 'Iris-setosa'],\n",
       " [5.2, 3.4, 1.4, 0.2, 'Iris-setosa'],\n",
       " [4.8, 3.1, 1.6, 0.2, 'Iris-setosa'],\n",
       " [5.4, 3.4, 1.5, 0.4, 'Iris-setosa'],\n",
       " [5.2, 4.1, 1.5, 0.1, 'Iris-setosa'],\n",
       " [5.5, 4.2, 1.4, 0.2, 'Iris-setosa'],\n",
       " [5.0, 3.2, 1.2, 0.2, 'Iris-setosa'],\n",
       " [5.5, 3.5, 1.3, 0.2, 'Iris-setosa'],\n",
       " [4.9, 3.1, 1.5, 0.1, 'Iris-setosa'],\n",
       " [4.4, 3.0, 1.3, 0.2, 'Iris-setosa'],\n",
       " [5.1, 3.4, 1.5, 0.2, 'Iris-setosa'],\n",
       " [4.4, 3.2, 1.3, 0.2, 'Iris-setosa'],\n",
       " [5.0, 3.5, 1.6, 0.6, 'Iris-setosa'],\n",
       " [4.8, 3.0, 1.4, 0.3, 'Iris-setosa'],\n",
       " [5.1, 3.8, 1.6, 0.2, 'Iris-setosa'],\n",
       " [5.3, 3.7, 1.5, 0.2, 'Iris-setosa'],\n",
       " [5.0, 3.3, 1.4, 0.2, 'Iris-setosa'],\n",
       " [6.4, 3.2, 4.5, 1.5, 'Iris-versicolor'],\n",
       " [5.5, 2.3, 4.0, 1.3, 'Iris-versicolor'],\n",
       " [5.7, 2.8, 4.5, 1.3, 'Iris-versicolor'],\n",
       " [6.3, 3.3, 4.7, 1.6, 'Iris-versicolor'],\n",
       " [4.9, 2.4, 3.3, 1.0, 'Iris-versicolor'],\n",
       " [6.6, 2.9, 4.6, 1.3, 'Iris-versicolor'],\n",
       " [5.2, 2.7, 3.9, 1.4, 'Iris-versicolor'],\n",
       " [5.9, 3.0, 4.2, 1.5, 'Iris-versicolor'],\n",
       " [6.0, 2.2, 4.0, 1.0, 'Iris-versicolor'],\n",
       " [5.6, 3.0, 4.5, 1.5, 'Iris-versicolor'],\n",
       " [5.8, 2.7, 4.1, 1.0, 'Iris-versicolor'],\n",
       " [6.2, 2.2, 4.5, 1.5, 'Iris-versicolor'],\n",
       " [5.9, 3.2, 4.8, 1.8, 'Iris-versicolor'],\n",
       " [6.1, 2.8, 4.0, 1.3, 'Iris-versicolor'],\n",
       " [6.1, 2.8, 4.7, 1.2, 'Iris-versicolor'],\n",
       " [6.4, 2.9, 4.3, 1.3, 'Iris-versicolor'],\n",
       " [6.8, 2.8, 4.8, 1.4, 'Iris-versicolor'],\n",
       " [6.7, 3.0, 5.0, 1.7, 'Iris-versicolor'],\n",
       " [5.7, 2.6, 3.5, 1.0, 'Iris-versicolor'],\n",
       " [5.5, 2.4, 3.8, 1.1, 'Iris-versicolor'],\n",
       " [5.8, 2.7, 3.9, 1.2, 'Iris-versicolor'],\n",
       " [6.0, 2.7, 5.1, 1.6, 'Iris-versicolor'],\n",
       " [5.5, 2.6, 4.4, 1.2, 'Iris-versicolor'],\n",
       " [6.1, 3.0, 4.6, 1.4, 'Iris-versicolor'],\n",
       " [5.0, 2.3, 3.3, 1.0, 'Iris-versicolor'],\n",
       " [5.6, 2.7, 4.2, 1.3, 'Iris-versicolor'],\n",
       " [5.7, 2.9, 4.2, 1.3, 'Iris-versicolor'],\n",
       " [5.1, 2.5, 3.0, 1.1, 'Iris-versicolor'],\n",
       " [5.7, 2.8, 4.1, 1.3, 'Iris-versicolor'],\n",
       " [6.3, 3.3, 6.0, 2.5, 'Iris-virginica'],\n",
       " [5.8, 2.7, 5.1, 1.9, 'Iris-virginica'],\n",
       " [6.3, 2.9, 5.6, 1.8, 'Iris-virginica'],\n",
       " [6.5, 3.0, 5.8, 2.2, 'Iris-virginica'],\n",
       " [7.6, 3.0, 6.6, 2.1, 'Iris-virginica'],\n",
       " [7.3, 2.9, 6.3, 1.8, 'Iris-virginica'],\n",
       " [6.7, 2.5, 5.8, 1.8, 'Iris-virginica'],\n",
       " [6.5, 3.2, 5.1, 2.0, 'Iris-virginica'],\n",
       " [6.4, 2.7, 5.3, 1.9, 'Iris-virginica'],\n",
       " [6.8, 3.0, 5.5, 2.1, 'Iris-virginica'],\n",
       " [5.8, 2.8, 5.1, 2.4, 'Iris-virginica'],\n",
       " [6.5, 3.0, 5.5, 1.8, 'Iris-virginica'],\n",
       " [7.7, 2.6, 6.9, 2.3, 'Iris-virginica'],\n",
       " [6.0, 2.2, 5.0, 1.5, 'Iris-virginica'],\n",
       " [7.7, 2.8, 6.7, 2.0, 'Iris-virginica'],\n",
       " [6.3, 2.7, 4.9, 1.8, 'Iris-virginica'],\n",
       " [6.7, 3.3, 5.7, 2.1, 'Iris-virginica'],\n",
       " [7.2, 3.2, 6.0, 1.8, 'Iris-virginica'],\n",
       " [6.2, 2.8, 4.8, 1.8, 'Iris-virginica'],\n",
       " [6.1, 3.0, 4.9, 1.8, 'Iris-virginica'],\n",
       " [6.4, 2.8, 5.6, 2.1, 'Iris-virginica'],\n",
       " [7.4, 2.8, 6.1, 1.9, 'Iris-virginica'],\n",
       " [7.9, 3.8, 6.4, 2.0, 'Iris-virginica'],\n",
       " [6.4, 2.8, 5.6, 2.2, 'Iris-virginica'],\n",
       " [6.3, 2.8, 5.1, 1.5, 'Iris-virginica'],\n",
       " [6.1, 2.6, 5.6, 1.4, 'Iris-virginica'],\n",
       " [6.4, 3.1, 5.5, 1.8, 'Iris-virginica'],\n",
       " [6.0, 3.0, 4.8, 1.8, 'Iris-virginica'],\n",
       " [6.9, 3.1, 5.4, 2.1, 'Iris-virginica'],\n",
       " [6.7, 3.1, 5.6, 2.4, 'Iris-virginica'],\n",
       " [6.9, 3.1, 5.1, 2.3, 'Iris-virginica'],\n",
       " [6.8, 3.2, 5.9, 2.3, 'Iris-virginica'],\n",
       " [6.7, 3.3, 5.7, 2.5, 'Iris-virginica'],\n",
       " [6.3, 2.5, 5.0, 1.9, 'Iris-virginica'],\n",
       " [6.5, 3.0, 5.2, 2.0, 'Iris-virginica'],\n",
       " [6.2, 3.4, 5.4, 2.3, 'Iris-virginica']]"
      ]
     },
     "execution_count": 30,
     "metadata": {},
     "output_type": "execute_result"
    }
   ],
   "source": [
    "trainingSet"
   ]
  },
  {
   "cell_type": "markdown",
   "id": "a9231705",
   "metadata": {},
   "source": [
    "####  Similarity"
   ]
  },
  {
   "cell_type": "code",
   "execution_count": 45,
   "id": "7b70000e",
   "metadata": {},
   "outputs": [],
   "source": [
    "import math\n",
    "def euclideanDistance(instance1,instance2,length):\n",
    "    distance = 0\n",
    "    for x in range(length):\n",
    "        distance += pow(float((instance1[x])-float(instance2[x])),2)\n",
    "    return math.sqrt(distance)"
   ]
  },
  {
   "cell_type": "code",
   "execution_count": 46,
   "id": "9a80fe11",
   "metadata": {},
   "outputs": [
    {
     "name": "stdout",
     "output_type": "stream",
     "text": [
      "Distance: 3.4641016151377544\n"
     ]
    }
   ],
   "source": [
    "data1 = [2, 2, 2, 'a']\n",
    "\n",
    "data2 = [4, 4, 4, 'b']\n",
    "\n",
    "distance = euclideanDistance(data1, data2, 3)\n",
    "\n",
    "print('Distance: ' + repr(distance))"
   ]
  },
  {
   "cell_type": "markdown",
   "id": "e5f27f8d",
   "metadata": {},
   "source": [
    "#### Neighbors"
   ]
  },
  {
   "cell_type": "code",
   "execution_count": 47,
   "id": "2ca0ff13",
   "metadata": {},
   "outputs": [],
   "source": [
    "import operator\n",
    "\n",
    "def getNeighbors(trainingSet, testInstance, k):\n",
    "\n",
    "    distances = []\n",
    "\n",
    "    length = len(testInstance)-1\n",
    "\n",
    "    for x in range(len(trainingSet)):\n",
    "\n",
    "        dist = euclideanDistance(testInstance, trainingSet[x], length)\n",
    "\n",
    "        distances.append((trainingSet[x], dist))\n",
    "\n",
    "        distances.sort(key=operator.itemgetter(1))\n",
    "\n",
    "    neighbors = []\n",
    "\n",
    "    for x in range(k):\n",
    "\n",
    "        neighbors.append(distances[x][0])\n",
    "\n",
    "    return neighbors"
   ]
  },
  {
   "cell_type": "code",
   "execution_count": 48,
   "id": "5e52356b",
   "metadata": {},
   "outputs": [
    {
     "name": "stdout",
     "output_type": "stream",
     "text": [
      "[[4, 4, 4, 'b']]\n"
     ]
    }
   ],
   "source": [
    "trainSet = [[2, 2, 2, 'a'], [4, 4, 4, 'b']]\n",
    "\n",
    "testInstance = [5, 5, 5]\n",
    "\n",
    "k = 1\n",
    "\n",
    "neighbors = getNeighbors(trainSet, testInstance, 1)\n",
    "\n",
    "print(neighbors)"
   ]
  },
  {
   "cell_type": "markdown",
   "id": "92f50355",
   "metadata": {},
   "source": [
    "#### Response"
   ]
  },
  {
   "cell_type": "code",
   "execution_count": 49,
   "id": "aa03bcc7",
   "metadata": {},
   "outputs": [],
   "source": [
    "import operator\n",
    "\n",
    "def getResponse(neighbors):\n",
    "\n",
    "    classVotes = {}\n",
    "\n",
    "    for x in range(len(neighbors)):\n",
    "\n",
    "        response = neighbors[x][-1] #complete with appropriate number\n",
    "\n",
    "        if response in classVotes:\n",
    "            classVotes[response] += 1 \n",
    "        else:\n",
    "            classVotes[response] = 1\n",
    "\n",
    "    sortedVotes = sorted(classVotes.items(), key=operator.itemgetter(1), reverse=True)\n",
    "\n",
    "    return sortedVotes[0][0]"
   ]
  },
  {
   "cell_type": "code",
   "execution_count": 50,
   "id": "fbab9f6c",
   "metadata": {},
   "outputs": [
    {
     "name": "stdout",
     "output_type": "stream",
     "text": [
      "a\n"
     ]
    }
   ],
   "source": [
    "neighbors = [[1,1,1,'a'], [2,2,2,'a'], [3,3,3,'b']]\n",
    "\n",
    "response = getResponse(neighbors)\n",
    "\n",
    "print(response)"
   ]
  },
  {
   "cell_type": "markdown",
   "id": "165f565a",
   "metadata": {},
   "source": [
    "#### Accuracy"
   ]
  },
  {
   "cell_type": "code",
   "execution_count": 80,
   "id": "44772cf8",
   "metadata": {},
   "outputs": [],
   "source": [
    "def getAccuracy(testSet,predictions):\n",
    "    correct = 0\n",
    "    for x in range(len(testSet)):\n",
    "        if testSet[x][-1] == predictions[x]: # [-1] The value is the last value, which is the last value of each row, which is the flower classification\n",
    "            correct += 1\n",
    "    return (correct/float(len(testSet))) * 100.00\n"
   ]
  },
  {
   "cell_type": "code",
   "execution_count": 81,
   "id": "68a66d80",
   "metadata": {},
   "outputs": [
    {
     "name": "stdout",
     "output_type": "stream",
     "text": [
      "66.66666666666666\n"
     ]
    }
   ],
   "source": [
    "testSet = [[1,1,1,'a'], [2,2,2,'a'], [3,3,3,'b']]\n",
    "\n",
    "predictions = ['a', 'a', 'a']\n",
    "\n",
    "accuracy = getAccuracy(testSet, predictions)\n",
    "\n",
    "print(accuracy)"
   ]
  },
  {
   "cell_type": "markdown",
   "id": "51bc88da",
   "metadata": {},
   "source": [
    "#### main"
   ]
  },
  {
   "cell_type": "code",
   "execution_count": 84,
   "id": "65c33b38",
   "metadata": {},
   "outputs": [
    {
     "name": "stdout",
     "output_type": "stream",
     "text": [
      "Train set: 115\n",
      "Test set: 34\n",
      "> predicted='Iris-setosa', actual='Iris-setosa'\n",
      "> predicted='Iris-setosa', actual='Iris-setosa'\n",
      "> predicted='Iris-setosa', actual='Iris-setosa'\n",
      "> predicted='Iris-setosa', actual='Iris-setosa'\n",
      "> predicted='Iris-setosa', actual='Iris-setosa'\n",
      "> predicted='Iris-setosa', actual='Iris-setosa'\n",
      "> predicted='Iris-setosa', actual='Iris-setosa'\n",
      "> predicted='Iris-setosa', actual='Iris-setosa'\n",
      "> predicted='Iris-setosa', actual='Iris-setosa'\n",
      "> predicted='Iris-setosa', actual='Iris-setosa'\n",
      "> predicted='Iris-setosa', actual='Iris-setosa'\n",
      "> predicted='Iris-setosa', actual='Iris-setosa'\n",
      "> predicted='Iris-setosa', actual='Iris-setosa'\n",
      "> predicted='Iris-setosa', actual='Iris-setosa'\n",
      "> predicted='Iris-versicolor', actual='Iris-versicolor'\n",
      "> predicted='Iris-versicolor', actual='Iris-versicolor'\n",
      "> predicted='Iris-versicolor', actual='Iris-versicolor'\n",
      "> predicted='Iris-versicolor', actual='Iris-versicolor'\n",
      "> predicted='Iris-versicolor', actual='Iris-versicolor'\n",
      "> predicted='Iris-versicolor', actual='Iris-versicolor'\n",
      "> predicted='Iris-versicolor', actual='Iris-versicolor'\n",
      "> predicted='Iris-versicolor', actual='Iris-versicolor'\n",
      "> predicted='Iris-versicolor', actual='Iris-versicolor'\n",
      "> predicted='Iris-versicolor', actual='Iris-versicolor'\n",
      "> predicted='Iris-virginica', actual='Iris-virginica'\n",
      "> predicted='Iris-virginica', actual='Iris-virginica'\n",
      "> predicted='Iris-virginica', actual='Iris-virginica'\n",
      "> predicted='Iris-virginica', actual='Iris-virginica'\n",
      "> predicted='Iris-virginica', actual='Iris-virginica'\n",
      "> predicted='Iris-virginica', actual='Iris-virginica'\n",
      "> predicted='Iris-virginica', actual='Iris-virginica'\n",
      "> predicted='Iris-virginica', actual='Iris-virginica'\n",
      "> predicted='Iris-versicolor', actual='Iris-virginica'\n",
      "> predicted='Iris-virginica', actual='Iris-virginica'\n",
      "Accuracy: 97.05882352941177%\n"
     ]
    }
   ],
   "source": [
    "def main():\n",
    "# prepare data\n",
    "    trainingSet=[]\n",
    "    testSet=[]\n",
    "    split = 0.80\n",
    "    loadDataset('iris.data.txt', split, trainingSet, testSet)\n",
    "    print ('Train set: ' + repr(len(trainingSet)))\n",
    "    print ('Test set: ' + repr(len(testSet)))\n",
    "# generate predictions\n",
    "    predictions=[]\n",
    "    k = 3\n",
    "    for x in range(len(testSet)):\n",
    "        neighbors = getNeighbors(trainingSet, testSet[x], k)\n",
    "        result = getResponse(neighbors)\n",
    "        predictions.append(result)\n",
    "        print('> predicted=' + repr(result) + ', actual=' + repr(testSet[x][-1]))\n",
    "        \n",
    "    accuracy = getAccuracy(testSet, predictions)\n",
    "    print('Accuracy: ' + repr(accuracy) + '%')\n",
    "\n",
    "main()"
   ]
  },
  {
   "cell_type": "markdown",
   "id": "f1c673e2",
   "metadata": {},
   "source": [
    "#### another distance metric"
   ]
  },
  {
   "attachments": {
    "image.png": {
     "image/png": "[encoded data removed]"
    }
   },
   "cell_type": "markdown",
   "id": "a6118d00",
   "metadata": {},
   "source": [
    "![image.png](attachment:image.png)"
   ]
  },
  {
   "attachments": {
    "image.png": {
     "image/png": "[encoded data removed]"
    }
   },
   "cell_type": "markdown",
   "id": "90d6a00a",
   "metadata": {},
   "source": [
    "![image.png](attachment:image.png)"
   ]
  },
  {
   "cell_type": "code",
   "execution_count": null,
   "id": "5fd7caf5",
   "metadata": {},
   "outputs": [],
   "source": []
  }
 ],
 "metadata": {
  "kernelspec": {
   "display_name": "Python 3 (ipykernel)",
   "language": "python",
   "name": "python3"
  },
  "language_info": {
   "codemirror_mode": {
    "name": "ipython",
    "version": 3
   },
   "file_extension": ".py",
   "mimetype": "text/x-python",
   "name": "python",
   "nbconvert_exporter": "python",
   "pygments_lexer": "ipython3",
   "version": "3.9.7"
  }
 },
 "nbformat": 4,
 "nbformat_minor": 5
}
